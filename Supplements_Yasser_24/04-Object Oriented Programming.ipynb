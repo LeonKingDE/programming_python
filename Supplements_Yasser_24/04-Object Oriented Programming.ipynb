{
 "cells": [
  {
   "cell_type": "markdown",
   "metadata": {
    "tags": []
   },
   "source": [
    "# Object-Oriented Programming (OOP) Tutorial\n",
    "\n",
    "## Introduction to Object-Oriented Programming\n",
    "\n",
    "Object-Oriented Programming (OOP) is a programming paradigm that uses objects to structure code. Objects encapsulate data and behavior, allowing for a modular and organized approach to software development.\n",
    "\n",
    "### Key Concepts\n",
    "1. **Class:** A blueprint for creating objects. It defines attributes (data) and methods (functions) that operate on the data.\n",
    "2. **Object:** An instance of a class. Objects are created based on the structure defined by the class.\n",
    "3. **Encapsulation:** Bundling data and methods that operate on the data within a single unit. It helps in hiding the implementation details.\n",
    "4. **Inheritance:** A mechanism to create a new class using properties and behaviors of an existing class. It promotes code reuse.\n",
    "5. **Polymorphism:** The ability for objects of different classes to respond to the same method call. It provides flexibility and extensibility.\n",
    "\n"
   ]
  },
  {
   "cell_type": "markdown",
   "metadata": {},
   "source": [
    "## Basic OOP in Python\n",
    "\n"
   ]
  },
  {
   "cell_type": "markdown",
   "metadata": {},
   "source": [
    "### Defining a Class\n"
   ]
  },
  {
   "cell_type": "code",
   "execution_count": 45,
   "metadata": {},
   "outputs": [],
   "source": [
    "\n",
    "class Dog:\n",
    "    def __init__(self, name, age):\n",
    "        self.name = name\n",
    "        self.age = age\n",
    "\n",
    "    def bark(self):\n",
    "        print(f\"{self.name} says Woof!\")\n"
   ]
  },
  {
   "cell_type": "markdown",
   "metadata": {},
   "source": [
    "1. **__ init __** is a special method called the initializer, used to initialize object attributes.\n",
    "2. **self** represents the instance of the class and is used to access attributes and methods within the class."
   ]
  },
  {
   "cell_type": "markdown",
   "metadata": {},
   "source": [
    "## Creating Objects\n"
   ]
  },
  {
   "cell_type": "code",
   "execution_count": 49,
   "metadata": {},
   "outputs": [],
   "source": [
    "# Creating instances of the Dog class\n",
    "dog1 = Dog(\"Buddy\", 3)\n",
    "dog2 = Dog(\"Max\", 5)\n"
   ]
  },
  {
   "cell_type": "markdown",
   "metadata": {},
   "source": [
    "## Accessing Attributes and Methods\n"
   ]
  },
  {
   "cell_type": "code",
   "execution_count": 52,
   "metadata": {},
   "outputs": [
    {
     "name": "stdout",
     "output_type": "stream",
     "text": [
      "Buddy is 3 years old.\n",
      "Max says Woof!\n"
     ]
    }
   ],
   "source": [
    "# Accessing attributes\n",
    "print(f\"{dog1.name} is {dog1.age} years old.\")\n",
    "\n",
    "# Calling methods\n",
    "dog2.bark()\n"
   ]
  },
  {
   "cell_type": "markdown",
   "metadata": {},
   "source": [
    "### **Exercise 1:** Create a Cat Class\n",
    "Create a **Cat** class with attributes **name** and **color**. Implement a method meow that prints the cat's sound."
   ]
  },
  {
   "cell_type": "code",
   "execution_count": 55,
   "metadata": {},
   "outputs": [],
   "source": [
    "class Cat:\n",
    "    def __init__(self, name, color):\n",
    "        self.name= name \n",
    "        self= color\n",
    "    def meow(self):\n",
    "        print(f\"{self.name} says Meow!\")"
   ]
  },
  {
   "cell_type": "markdown",
   "metadata": {},
   "source": [
    "### **Exercise 2**: Create and Use Objects\n"
   ]
  },
  {
   "cell_type": "markdown",
   "metadata": {},
   "source": [
    "Create instances of both Dog and Cat classes and demonstrate calling their methods."
   ]
  },
  {
   "cell_type": "code",
   "execution_count": 59,
   "metadata": {},
   "outputs": [
    {
     "name": "stdout",
     "output_type": "stream",
     "text": [
      "Whiskers says Meow!\n",
      "Mittens says Meow!\n",
      "Max says Woof!\n"
     ]
    }
   ],
   "source": [
    "cat1 = Cat(\"Whiskers\", \"Gray\")\n",
    "cat2 = Cat(\"Mittens\", \"White\")\n",
    "dog1 =Dog('Max',5)\n",
    "\n",
    "cat1.meow()  # Output: Whiskers says Meow!\n",
    "cat2.meow()  # Output: Mittens says Meow!\n",
    "dog1.bark()\n"
   ]
  },
  {
   "cell_type": "markdown",
   "metadata": {},
   "source": [
    "### Types of OOP in Python\n"
   ]
  },
  {
   "cell_type": "markdown",
   "metadata": {},
   "source": [
    "### 1. Inheritance\n",
    "\n"
   ]
  },
  {
   "cell_type": "markdown",
   "metadata": {},
   "source": [
    "Inheritance allows a class to inherit attributes and methods from another class.\n"
   ]
  },
  {
   "cell_type": "code",
   "execution_count": 64,
   "metadata": {},
   "outputs": [
    {
     "name": "stdout",
     "output_type": "stream",
     "text": [
      "Bello sagt Wau!\n",
      "Minka sagt Miau!\n"
     ]
    }
   ],
   "source": [
    "# Elternklasse\n",
    "class Tier:\n",
    "    def __init__(self, name):\n",
    "        self.name = name\n",
    "\n",
    "    def spricht(self):\n",
    "        raise NotImplementedError(\"Unterklasse muss abstrakte Methode implementieren\")\n",
    "\n",
    "# Kindklasse, die von Tier erbt\n",
    "class Hund(Tier):\n",
    "    def spricht(self):\n",
    "        return f\"{self.name} sagt Wau!\"\n",
    "\n",
    "# Eine weitere Kindklasse, die von Tier erbt\n",
    "class Katze(Tier):\n",
    "    def spricht(self):\n",
    "        return f\"{self.name} sagt Miau!\"\n",
    "\n",
    "# Erstellung von Instanzen der Kindklassen\n",
    "hund = Hund(\"Bello\")\n",
    "katze = Katze(\"Minka\")\n",
    "\n",
    "# Aufruf der Methode spricht auf den Instanzen\n",
    "print(hund.spricht())  # Ausgabe: Bello sagt Wau!\n",
    "print(katze.spricht())  # Ausgabe: Minka sagt Miau!\n"
   ]
  },
  {
   "cell_type": "markdown",
   "metadata": {},
   "source": [
    "### **Exercise 3**: Extend the Cat Class \n",
    "Create a **Kitten** class that inherits from the **Cat** class. Add a method **play** that prints a playful message.\n"
   ]
  },
  {
   "cell_type": "code",
   "execution_count": 66,
   "metadata": {},
   "outputs": [],
   "source": [
    "class Kitten(Cat):\n",
    "    def play(self):\n",
    "        print(f\"{self.name} is playing!\")\n"
   ]
  },
  {
   "cell_type": "markdown",
   "metadata": {},
   "source": [
    "### 2. Encapsulation\n",
    "Encapsulation helps in restricting access to some of the object's components and preventing the accidental modification of data.\n",
    "\n"
   ]
  },
  {
   "cell_type": "code",
   "execution_count": 70,
   "metadata": {},
   "outputs": [
    {
     "name": "stdout",
     "output_type": "stream",
     "text": [
      "Aktuelles Guthaben: 1000\n",
      "Kontonummer: 123456\n",
      "Neue Kontonummer: 789012\n",
      "Einzahlung von 500 € durchgeführt. Neues Guthaben: 1500 €\n",
      "Nicht genügend Guthaben oder ungültiger Auszahlungsbetrag.\n",
      "Nicht genügend Guthaben oder ungültiger Auszahlungsbetrag.\n"
     ]
    }
   ],
   "source": [
    "class Bankkonto:\n",
    "    def __init__(self, kontonummer, guthaben):\n",
    "        self._kontonummer = kontonummer\n",
    "        self._guthaben = guthaben\n",
    "\n",
    "    def einzahlen(self, betrag):\n",
    "        if betrag > 0:\n",
    "            self._guthaben += betrag\n",
    "            print(f\"Einzahlung von {betrag} € durchgeführt. Neues Guthaben: {self._guthaben} €\")\n",
    "        else:\n",
    "            print(\"Ungültiger Einzahlungsbetrag.\")\n",
    "\n",
    "    def abheben(self, betrag):\n",
    "        if 0 < betrag <= self._guthaben:\n",
    "            self._guthaben -= betrag\n",
    "            print(f\"Auszahlung von {betrag} € durchgeführt. Neues Guthaben: {self._guthaben} €\")\n",
    "        else:\n",
    "            print(\"Nicht genügend Guthaben oder ungültiger Auszahlungsbetrag.\")\n",
    "\n",
    "    def guthaben_abfragen(self):\n",
    "        return self._guthaben\n",
    "\n",
    "    # Getter und Setter für Kontonummer\n",
    "    def kontonummer_abfragen(self):\n",
    "        return self._kontonummer\n",
    "\n",
    "    def kontonummer_setzen(self, neue_kontonummer):\n",
    "        self._kontonummer = neue_kontonummer\n",
    "\n",
    "\n",
    "# Beispielanwendung\n",
    "konto1 = Bankkonto(\"123456\", 1000)\n",
    "\n",
    "# Versuch, auf das Guthaben direkt zuzugreifen (was vermieden werden sollte)\n",
    "# print(konto1._guthaben)  # Dies sollte idealerweise nicht möglich sein\n",
    "\n",
    "# Guthaben mithilfe der Getter-Methode abfragen\n",
    "print(\"Aktuelles Guthaben:\", konto1.guthaben_abfragen())\n",
    "\n",
    "# Versuch, auf die Kontonummer direkt zuzugreifen (was vermieden werden sollte)\n",
    "# print(konto1._kontonummer)  # Dies sollte idealerweise nicht möglich sein\n",
    "\n",
    "# Kontonummer mithilfe der Getter-Methode abfragen\n",
    "print(\"Kontonummer:\", konto1.kontonummer_abfragen())\n",
    "\n",
    "# Versuch, die Kontonummer direkt zu ändern (was vermieden werden sollte)\n",
    "# konto1._kontonummer = \"789012\"  # Dies sollte idealerweise vermieden werden\n",
    "\n",
    "# Ändern der Kontonummer mithilfe der Setter-Methode\n",
    "konto1.kontonummer_setzen(\"789012\")\n",
    "print(\"Neue Kontonummer:\", konto1.kontonummer_abfragen())\n",
    "\n",
    "# Einzahlung tätigen\n",
    "konto1.einzahlen(500)\n",
    "\n",
    "# Auszahlung tätigen\n",
    "konto1.abheben(2000)\n",
    "\n",
    "# Versuch, mit einem ungültigen Betrag abzuheben\n",
    "konto1.abheben(-100)\n"
   ]
  },
  {
   "cell_type": "markdown",
   "metadata": {},
   "source": [
    "1. The BankAccount class has attributes _account_number and _balance, prefixed with a single underscore. This convention indicates that these attributes are intended for internal use only and should not be accessed directly from outside the class.\n",
    "2. Methods deposit, withdraw, get_balance, get_account_number, and set_account_number are provided for interacting with the bank account. These methods provide controlled access to the attributes.\n",
    "3. The deposit and withdraw methods modify the balance attribute, but they ensure that the balance cannot become negative.\n",
    "4. Getter and setter methods are used for accessing and modifying the account number attribute, respectively, instead of directly accessing or modifying it. This provides controlled access to the attribute.\n",
    "5. The example demonstrates how encapsulation helps in hiding the internal state of objects and controlling access to them, preventing accidental modification or misuse of data"
   ]
  },
  {
   "cell_type": "markdown",
   "metadata": {},
   "source": [
    "### **Exercise 4**: Modify the Circle Class\n",
    "Add a method **calculate_area** to the **Circle** class that calculates and returns the area of the circle."
   ]
  },
  {
   "cell_type": "code",
   "execution_count": 74,
   "metadata": {},
   "outputs": [],
   "source": [
    "class Circle:\n",
    "    \n",
    "    def __init__(self, radius):\n",
    "        self.__radius = radius\n",
    "\n",
    "    def get_radius(self):\n",
    "        return self.__radius\n",
    "\n",
    "    def set_radius(self, new_radius):\n",
    "        if new_radius > 0:\n",
    "            self.__radius = new_radius\n",
    "        else:\n",
    "            print(\"Radius must be positive.\")\n",
    "\n",
    "\n",
    "    def calculate_area(self):\n",
    "        return 3.14 * self.__radius**2\n"
   ]
  },
  {
   "cell_type": "markdown",
   "metadata": {},
   "source": [
    "### 3. Polymorphism\n",
    "Polymorphism allows objects to be treated as instances of their parent class, enabling flexibility."
   ]
  },
  {
   "cell_type": "code",
   "execution_count": 77,
   "metadata": {},
   "outputs": [
    {
     "name": "stdout",
     "output_type": "stream",
     "text": [
      "Gesamtfläche aller Formen: 48.26\n"
     ]
    }
   ],
   "source": [
    "# Definieren einer Klasse 'Shape'\n",
    "class Shape:\n",
    "    def area(self):\n",
    "        pass\n",
    "\n",
    "# Definieren einer Klasse 'Rectangle', die von 'Shape' erbt\n",
    "class Rectangle(Shape):\n",
    "    def __init__(self, width, height):\n",
    "        self.width = width\n",
    "        self.height = height\n",
    "\n",
    "    # Überschreiben der Methode 'area' für Rechtecke\n",
    "    def area(self):\n",
    "        return self.width * self.height\n",
    "\n",
    "# Definieren einer Klasse 'Circle', die von 'Shape' erbt\n",
    "class Circle(Shape):\n",
    "    def __init__(self, radius):\n",
    "        self.radius = radius\n",
    "\n",
    "    # Überschreiben der Methode 'area' für Kreise\n",
    "    def area(self):\n",
    "        return 3.14 * self.radius * self.radius\n",
    "\n",
    "# Funktion zur Berechnung der Gesamtfläche verschiedener Formen\n",
    "def total_area(shapes):\n",
    "    total = 0\n",
    "    for shape in shapes:\n",
    "        total += shape.area()\n",
    "    return total\n",
    "\n",
    "# Instanzen von Rechteck und Kreis erstellen\n",
    "rechteck = Rectangle(4, 5)\n",
    "kreis = Circle(3)\n",
    "\n",
    "# Liste von Formen erstellen\n",
    "formen = [rechteck, kreis]\n",
    "\n",
    "# Die Gesamtfläche aller Formen berechnen und ausgeben\n",
    "print(\"Gesamtfläche aller Formen:\", total_area(formen))  # Output: 63.14\n"
   ]
  },
  {
   "cell_type": "markdown",
   "metadata": {},
   "source": [
    "## Conclusion\n",
    "Object-Oriented Programming provides a powerful and flexible way to structure code, promoting code reusability and maintainability. Understanding and applying these OOP principles can lead to more modular and scalable software designs.\n",
    "a"
   ]
  }
 ],
 "metadata": {
  "kernelspec": {
   "display_name": "anaconda-2022.05-py39",
   "language": "python",
   "name": "conda-env-anaconda-2022.05-py39-py"
  },
  "language_info": {
   "codemirror_mode": {
    "name": "ipython",
    "version": 3
   },
   "file_extension": ".py",
   "mimetype": "text/x-python",
   "name": "python",
   "nbconvert_exporter": "python",
   "pygments_lexer": "ipython3",
   "version": "3.9.12"
  }
 },
 "nbformat": 4,
 "nbformat_minor": 4
}
