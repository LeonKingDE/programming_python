{
 "cells": [
  {
   "cell_type": "markdown",
   "id": "284d85b0-3b77-413c-8d2b-722c342fff58",
   "metadata": {},
   "source": [
    "# Regular expressions\n",
    "\n",
    "Reguläre Ausdrücke, kurz \"re\", sind eine leistungsstarke Möglichkeit, Muster in Zeichenketten zu suchen, zu extrahieren und zu manipulieren. In Python wird das Modul re verwendet, um reguläre Ausdrücke zu verwenden.\n",
    "\n",
    "Grundlegende Funktionen von re:\n",
    "- re.search(pattern, string): Sucht den ersten Treffer des Musters im String.\n",
    "- re.match(pattern, string): Sucht das Muster nur am Anfang des Strings.\n",
    "- re.findall(pattern, string): Findet alle Treffer des Musters im String und gibt sie als Liste zurück.\n",
    "- re.sub(pattern, repl, string): Ersetzt alle Treffer des Musters im String durch den Ersatzstring (repl)."
   ]
  },
  {
   "cell_type": "markdown",
   "id": "517b5983-ba65-44a3-90fc-952603e19466",
   "metadata": {},
   "source": [
    "- Ein bestimmtes Wort in einem String finden:"
   ]
  },
  {
   "cell_type": "code",
   "execution_count": 62,
   "id": "672885c5-7d74-42dd-9fbf-e8031db5ae00",
   "metadata": {},
   "outputs": [
    {
     "name": "stdout",
     "output_type": "stream",
     "text": [
      "True\n"
     ]
    }
   ],
   "source": [
    "import re\n",
    "\n",
    "def match_hello(string):\n",
    "    pattern = r'hello'\n",
    "    return re.search(pattern, string) is not None\n",
    "\n",
    "# Example usage:\n",
    "print(match_hello(\"Say  hello hello to everyone!\"))  \n"
   ]
  },
  {
   "cell_type": "code",
   "execution_count": null,
   "id": "6b949aba-de88-47d8-be1a-77dbc897db2d",
   "metadata": {},
   "outputs": [],
   "source": [
    "print(match_hello(\"Hi there!\"))              "
   ]
  },
  {
   "cell_type": "markdown",
   "id": "02354101-049e-412d-a505-cc0658f07f62",
   "metadata": {},
   "source": [
    "- Ein Muster von Ziffern finden:\n"
   ]
  },
  {
   "cell_type": "code",
   "execution_count": 74,
   "id": "d01dab24-164c-4763-8b34-e14b73a279cf",
   "metadata": {},
   "outputs": [
    {
     "name": "stdout",
     "output_type": "stream",
     "text": [
      "False\n",
      "False\n"
     ]
    }
   ],
   "source": [
    "import re\n",
    "\n",
    "def match_digits(string):\n",
    "    pattern = r'\\d'\n",
    "    return re.search(pattern, string) is not None\n",
    "\n",
    "# Example usage:\n",
    "print(match_digits(\"There are  apples.\"))  # Output: True\n",
    "print(match_digits(\"No digits here!\"))        # Output: False\n"
   ]
  },
  {
   "cell_type": "markdown",
   "id": "fad88f94-2708-485c-956f-d675e7e240ab",
   "metadata": {},
   "source": [
    "- Ein bestimmtes E-Mail-Muster finden:\n"
   ]
  },
  {
   "cell_type": "code",
   "execution_count": 15,
   "id": "e7484be4-4977-46a8-9e47-6704d13a9b41",
   "metadata": {},
   "outputs": [
    {
     "name": "stdout",
     "output_type": "stream",
     "text": [
      "True\n",
      "False\n"
     ]
    }
   ],
   "source": [
    "import re\n",
    "\n",
    "def match_email(string):\n",
    "    pattern = r'\\b[A-Za-z0-9._%+-]+@[A-Za-z0-9.-]+\\.[A-Z|a-z]{2,}\\b'\n",
    "    return re.match(pattern, string) is not None\n",
    "\n",
    "# Example usage:\n",
    "print(match_email(\"john@example.com\"))   # Output: True\n",
    "print(match_email(\"not_an_email.com\"))   # Output: False\n"
   ]
  },
  {
   "cell_type": "markdown",
   "id": "f739aa30-e0fe-4dc2-b6d8-96af81d6969b",
   "metadata": {},
   "source": [
    "- in dem regulären Ausdruck (?:[a-zA-Z]|[0-9]|[$-_@.&+]|[!*\\\\(\\\\),]|(?:%[0-9a-fA-F][0-9a-fA-F]))+' wird der Ausdruck (?: ... ) verwendet, um eine nicht erfassende Gruppe von Zeichen anzugeben. Dies bedeutet, dass diese Gruppe für die Übereinstimmung von Zeichen verwendet wird, aber keine separate Gruppe in den gefundenen Übereinstimmungen erstellt wird.\n",
    "\n",
    "Innerhalb dieser nicht erfassenden Gruppe gibt es mehrere Möglichkeiten, wie Zeichenketten erfasst werden können:\n",
    "\n",
    "- '[a-zA-Z]': Übereinstimmung mit einem Buchstaben (Groß- oder Kleinbuchstabe).\n",
    "- [0-9]: Übereinstimmung mit einer Ziffer.\n",
    "- [$-_@.&+]:\n",
    "  Übereinstimmung mit einem der Zeichen    _, @, ., & oder +.\n",
    "- [!*\\\\(\\\\),]: Übereinstimmung mit einem der Zeichen !, *, (, ), ,.\n",
    "- (?:%[0-9a-fA-F][0-9a-fA-F]): Dies ist eine nicht erfassende Gruppe, die für URLs mit Prozentkodierung verwendet wird. Es wird nach einem Prozentzeichen % gefolgt von zwei hexadezimalen Ziffern gesucht. %[0-9a-fA-F] entspricht einem einzelnen Zeichen mit einer hexadezimalen Ziffer (0-9 und a-f oder A-F), und [0-9a-fA-F][0-9a-fA-F] entspricht zwei solchen Zeichen.\n"
   ]
  },
  {
   "cell_type": "markdown",
   "id": "b2e2e4d8-43ea-4ab3-a4e6-01aaad98835a",
   "metadata": {},
   "source": [
    "- Einzelne Buchstaben suchen:\n"
   ]
  },
  {
   "cell_type": "code",
   "execution_count": 80,
   "id": "a143bab8-85f9-4a7b-85a0-60a28cb48807",
   "metadata": {},
   "outputs": [
    {
     "name": "stdout",
     "output_type": "stream",
     "text": [
      "['b']\n"
     ]
    }
   ],
   "source": [
    "import re\n",
    "\n",
    "# 1. Einzelne Buchstaben suchen\n",
    "pattern = r'b'\n",
    "print(re.findall(pattern, \"banana\"))  \n",
    "\n"
   ]
  },
  {
   "cell_type": "code",
   "execution_count": 86,
   "id": "e4853604-fbd7-49ff-b6df-4665aaad1281",
   "metadata": {},
   "outputs": [
    {
     "name": "stdout",
     "output_type": "stream",
     "text": [
      "['lo']\n"
     ]
    }
   ],
   "source": [
    "# 2. Eine bestimmte Anzahl von Buchstaben suchen\n",
    "pattern = r'lo{1}'\n",
    "print(re.findall(pattern, \"hello\"))  "
   ]
  },
  {
   "cell_type": "code",
   "execution_count": 84,
   "id": "988a9309-9673-425d-8c51-e1a66e5cf684",
   "metadata": {},
   "outputs": [
    {
     "name": "stdout",
     "output_type": "stream",
     "text": [
      "['looo']\n"
     ]
    }
   ],
   "source": [
    "\n",
    "\n",
    "# 3. Buchstaben von einer bestimmten Anzahl suchen\n",
    "pattern = r'lo{1,3}'\n",
    "print(re.findall(pattern, \"hellooo\")) "
   ]
  },
  {
   "cell_type": "code",
   "execution_count": 88,
   "id": "97b4d0ea-04d9-4c4c-b29f-b795dcc61fed",
   "metadata": {},
   "outputs": [
    {
     "name": "stdout",
     "output_type": "stream",
     "text": [
      "['a', 'e']\n"
     ]
    }
   ],
   "source": [
    "\n",
    "# 4. Buchstaben aus einer bestimmten Menge suchen\n",
    "pattern = r'[aeiou]'\n",
    "print(re.findall(pattern, \"apple\"))    # Ausgabe: ['a', 'e']\n",
    "\n"
   ]
  },
  {
   "cell_type": "code",
   "execution_count": 90,
   "id": "d76a3bed-7d0f-4a99-bf55-b1d37cffa4ce",
   "metadata": {},
   "outputs": [
    {
     "name": "stdout",
     "output_type": "stream",
     "text": [
      "['p', 'p', 'l']\n"
     ]
    }
   ],
   "source": [
    "# 5. Buchstaben außerhalb einer bestimmten Menge suchen\n",
    "pattern = r'[^aeiou]'\n",
    "print(re.findall(pattern, \"apple\"))    # Ausgabe: ['p', 'p', 'l']\n",
    "\n"
   ]
  },
  {
   "cell_type": "code",
   "execution_count": 98,
   "id": "97055277-c89e-4ff6-a2a3-c253b5b8679f",
   "metadata": {},
   "outputs": [
    {
     "name": "stdout",
     "output_type": "stream",
     "text": [
      "['1', '2', '3']\n"
     ]
    }
   ],
   "source": [
    "# 6. Einzelne Ziffern suchen\n",
    "pattern = r'\\d'\n",
    "print(re.findall(pattern, \"There are 123 apples.\")) \n"
   ]
  },
  {
   "cell_type": "code",
   "execution_count": 94,
   "id": "b37926c4-ca14-4406-98f6-b75cf72778b2",
   "metadata": {},
   "outputs": [
    {
     "name": "stdout",
     "output_type": "stream",
     "text": [
      "['T', 'h', 'e', 'r', 'e', ' ', 'a', 'r', 'e', ' ', ' ', 'a', 'p', 'p', 'l', 'e', 's', '.']\n"
     ]
    }
   ],
   "source": [
    "# 7. Nicht-Ziffern suchen\n",
    "pattern = r'\\D'\n",
    "print(re.findall(pattern, \"There are 123 apples.\"))  \n"
   ]
  },
  {
   "cell_type": "code",
   "execution_count": 102,
   "id": "66826fac-3709-4676-b1bb-55e8efdcbbd2",
   "metadata": {},
   "outputs": [
    {
     "name": "stdout",
     "output_type": "stream",
     "text": [
      "[' ', ' ', ' ', ' ', ' ', ' ', ' ', ' ']\n"
     ]
    }
   ],
   "source": [
    "# 8. Leerzeichen suchen\n",
    "pattern = r'\\s'\n",
    "print(re.findall(pattern, \"Hello        World\"))  \n",
    "\n"
   ]
  },
  {
   "cell_type": "code",
   "execution_count": 106,
   "id": "0a1a6058-54ec-4208-ae30-499256d40e77",
   "metadata": {},
   "outputs": [
    {
     "name": "stdout",
     "output_type": "stream",
     "text": [
      "['Hello', 'World']\n"
     ]
    }
   ],
   "source": [
    "# 9. Nicht-Leerzeichen suchen\n",
    "pattern = r'\\S+'\n",
    "print(re.findall(pattern, \"Hello World\"))  "
   ]
  },
  {
   "cell_type": "code",
   "execution_count": 108,
   "id": "137ad160-0994-4795-beb3-a68f59734729",
   "metadata": {},
   "outputs": [
    {
     "name": "stdout",
     "output_type": "stream",
     "text": [
      "['Hello', 'World']\n"
     ]
    }
   ],
   "source": [
    "\n",
    "# 10. Wörter suchen\n",
    "pattern = r'\\w+'\n",
    "print(re.findall(pattern, \"Hello World\"))  \n",
    "\n"
   ]
  },
  {
   "cell_type": "code",
   "execution_count": 110,
   "id": "36d86a34-a3c5-4bfa-a5ab-9ee9ba451c34",
   "metadata": {},
   "outputs": [
    {
     "name": "stdout",
     "output_type": "stream",
     "text": [
      "[' ']\n"
     ]
    }
   ],
   "source": [
    "# 11. Nicht-Wörter suchen\n",
    "pattern = r'\\W+'\n",
    "print(re.findall(pattern, \"Hello World\"))  # Ausgabe: [' ']\n",
    "\n"
   ]
  },
  {
   "cell_type": "code",
   "execution_count": 112,
   "id": "5aadeef0-8d6b-4041-b2cf-7842d731a371",
   "metadata": {},
   "outputs": [
    {
     "name": "stdout",
     "output_type": "stream",
     "text": [
      "['Hello']\n"
     ]
    }
   ],
   "source": [
    "# 12. Anfang eines Strings suchen\n",
    "pattern = r'^Hello'\n",
    "print(re.findall(pattern, \"Hello World\"))  \n"
   ]
  },
  {
   "cell_type": "code",
   "execution_count": null,
   "id": "f9d68e0f-dc1f-4da7-931b-da2a774ead03",
   "metadata": {},
   "outputs": [],
   "source": [
    "# 13. Ende eines Strings suchen\n",
    "pattern = r'World$'\n",
    "print(re.findall(pattern, \"Hello World\"))  \n",
    "\n"
   ]
  },
  {
   "cell_type": "code",
   "execution_count": 114,
   "id": "b59b8206-ee60-4d03-b621-e283e51a654f",
   "metadata": {},
   "outputs": [
    {
     "name": "stdout",
     "output_type": "stream",
     "text": [
      "['lo']\n"
     ]
    }
   ],
   "source": [
    "# 14. Genau eine Wiederholung suchen\n",
    "pattern = r'lo{1}'\n",
    "print(re.findall(pattern, \"hello\"))   \n"
   ]
  },
  {
   "cell_type": "code",
   "execution_count": 118,
   "id": "89758047-61e7-40cd-bc60-96c4e84b78c6",
   "metadata": {},
   "outputs": [
    {
     "name": "stdout",
     "output_type": "stream",
     "text": [
      "['l', 'lo']\n"
     ]
    }
   ],
   "source": [
    "# 15. Null oder eine Wiederholung suchen\n",
    "pattern = r'lo{0,1}'\n",
    "print(re.findall(pattern, \"hello\"))   "
   ]
  },
  {
   "cell_type": "code",
   "execution_count": 116,
   "id": "ae12add2-2e80-4d91-b8df-c0888fec502a",
   "metadata": {},
   "outputs": [
    {
     "name": "stdout",
     "output_type": "stream",
     "text": [
      "['H', 'e', 'l', 'l', 'o', 'W', 'o', 'r', 'l', 'd']\n"
     ]
    }
   ],
   "source": [
    "# 16. Beliebige Zeichen außer einer Zeichenklasse suchen\n",
    "pattern = r'.'\n",
    "print(re.findall(pattern, \"Hello\\nWorld\"))  "
   ]
  },
  {
   "cell_type": "code",
   "execution_count": null,
   "id": "921201ae-3bf7-419b-8844-f19d4883a03d",
   "metadata": {},
   "outputs": [],
   "source": []
  }
 ],
 "metadata": {
  "kernelspec": {
   "display_name": "anaconda-panel-2023.05-py310",
   "language": "python",
   "name": "conda-env-anaconda-panel-2023.05-py310-py"
  },
  "language_info": {
   "codemirror_mode": {
    "name": "ipython",
    "version": 3
   },
   "file_extension": ".py",
   "mimetype": "text/x-python",
   "name": "python",
   "nbconvert_exporter": "python",
   "pygments_lexer": "ipython3",
   "version": "3.11.5"
  }
 },
 "nbformat": 4,
 "nbformat_minor": 5
}
