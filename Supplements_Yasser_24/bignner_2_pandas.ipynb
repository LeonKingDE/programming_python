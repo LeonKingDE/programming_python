{
 "cells": [
  {
   "cell_type": "markdown",
   "metadata": {},
   "source": [
    "# Jupyter Notebook: Intermediate Pandas Skills\n",
    "\n",
    "## 5. Multi-Indexing\n",
    "\n",
    "### 5.1 Creating MultiIndex\n",
    "\n"
   ]
  },
  {
   "cell_type": "code",
   "execution_count": 29,
   "metadata": {},
   "outputs": [
    {
     "name": "stdout",
     "output_type": "stream",
     "text": [
      "0    1.0\n",
      "1    3.0\n",
      "2    5.0\n",
      "3    NaN\n",
      "4    6.0\n",
      "5    8.0\n",
      "dtype: float64\n",
      "      Name  Age           City\n",
      "0    Alice   25       New York\n",
      "1      Bob   30  San Francisco\n",
      "2  Charlie   22    Los Angeles\n"
     ]
    }
   ],
   "source": [
    "# Creating a MultiIndex DataFrame\n",
    "import pandas as pd \n",
    "import numpy as np \n",
    "\n",
    "# Creating a Series\n",
    "s = pd.Series([1, 3, 5, np.nan, 6, 8])\n",
    "print(s)\n",
    "\n",
    "# Creating a DataFrame\n",
    "df = pd.DataFrame({\n",
    "    'Name': ['Alice', 'Bob', 'Charlie'],\n",
    "    'Age': [25, 30, 22],\n",
    "    'City': ['New York', 'San Francisco', 'Los Angeles']\n",
    "})\n",
    "print(df)\n",
    "\n"
   ]
  },
  {
   "cell_type": "code",
   "execution_count": 30,
   "metadata": {},
   "outputs": [],
   "source": [
    "multi_index_df = df.set_index(['City', 'Name'])\n"
   ]
  },
  {
   "cell_type": "markdown",
   "metadata": {},
   "source": [
    "### 5.2 Working with MultiIndex\n"
   ]
  },
  {
   "cell_type": "code",
   "execution_count": 31,
   "metadata": {},
   "outputs": [
    {
     "data": {
      "text/html": [
       "<div>\n",
       "<style scoped>\n",
       "    .dataframe tbody tr th:only-of-type {\n",
       "        vertical-align: middle;\n",
       "    }\n",
       "\n",
       "    .dataframe tbody tr th {\n",
       "        vertical-align: top;\n",
       "    }\n",
       "\n",
       "    .dataframe thead th {\n",
       "        text-align: right;\n",
       "    }\n",
       "</style>\n",
       "<table border=\"1\" class=\"dataframe\">\n",
       "  <thead>\n",
       "    <tr style=\"text-align: right;\">\n",
       "      <th></th>\n",
       "      <th>Age</th>\n",
       "    </tr>\n",
       "    <tr>\n",
       "      <th>Name</th>\n",
       "      <th></th>\n",
       "    </tr>\n",
       "  </thead>\n",
       "  <tbody>\n",
       "    <tr>\n",
       "      <th>Alice</th>\n",
       "      <td>25</td>\n",
       "    </tr>\n",
       "  </tbody>\n",
       "</table>\n",
       "</div>"
      ],
      "text/plain": [
       "       Age\n",
       "Name      \n",
       "Alice   25"
      ]
     },
     "execution_count": 31,
     "metadata": {},
     "output_type": "execute_result"
    }
   ],
   "source": [
    "# Selecting data from a MultiIndex DataFrame\n",
    "\n",
    "\n",
    "selected_data = multi_index_df.loc['New York']\n",
    "selected_data"
   ]
  },
  {
   "cell_type": "markdown",
   "metadata": {},
   "source": [
    "## 6. Merging and Joining\n",
    "### 6.1 Combining DataFrames\n",
    "#### 6.1.1 Concatenation"
   ]
  },
  {
   "cell_type": "code",
   "execution_count": 32,
   "metadata": {},
   "outputs": [
    {
     "name": "stdout",
     "output_type": "stream",
     "text": [
      "DataFrame 1:\n",
      "            City  Population  Area (sq. miles)\n",
      "0       New York     8500000             468.9\n",
      "1  San Francisco      884000              46.9\n",
      "2    Los Angeles     3990000             468.7\n",
      "\n",
      "DataFrame 2:\n",
      "            City  Average Income  Median Age\n",
      "0       New York           65000          35\n",
      "1  San Francisco           80000          38\n",
      "2    Los Angeles           70000          34\n"
     ]
    }
   ],
   "source": [
    "import pandas as pd\n",
    "\n",
    "# Create DataFrame df1\n",
    "df1 = pd.DataFrame({\n",
    "    'City': ['New York', 'San Francisco', 'Los Angeles'],\n",
    "    'Population': [8500000, 884000, 3990000],\n",
    "    'Area (sq. miles)': [468.9, 46.9, 468.7]\n",
    "})\n",
    "\n",
    "# Create DataFrame df2\n",
    "df2 = pd.DataFrame({\n",
    "    'City': ['New York', 'San Francisco', 'Los Angeles'],\n",
    "    'Average Income': [65000, 80000, 70000],\n",
    "    'Median Age': [35, 38, 34]\n",
    "})\n",
    "\n",
    "# Display the DataFrames\n",
    "print(\"DataFrame 1:\")\n",
    "print(df1)\n",
    "\n",
    "print(\"\\nDataFrame 2:\")\n",
    "print(df2)"
   ]
  },
  {
   "cell_type": "code",
   "execution_count": 33,
   "metadata": {},
   "outputs": [],
   "source": [
    "# Concatenating DataFrames along rows\n",
    "concatenated_df = pd.concat([df1, df2])\n"
   ]
  },
  {
   "cell_type": "markdown",
   "metadata": {},
   "source": [
    "#### 6.1.2 Merging\n"
   ]
  },
  {
   "cell_type": "code",
   "execution_count": 37,
   "metadata": {},
   "outputs": [],
   "source": [
    "# Merging DataFrames based on a common column\n",
    "merged_df = pd.merge(df1, df2, on='City', how='inner')\n"
   ]
  },
  {
   "cell_type": "markdown",
   "metadata": {},
   "source": [
    "### 6.2 Joining DataFrames"
   ]
  },
  {
   "cell_type": "code",
   "execution_count": 35,
   "metadata": {},
   "outputs": [],
   "source": [
    "# Joining DataFrames based on index\n",
    "joined_df = df1.join(df2, how='inner', lsuffix='_left', rsuffix='_right')\n"
   ]
  },
  {
   "cell_type": "markdown",
   "metadata": {},
   "source": [
    "## 7. Time Series Data\n",
    "### 7.1 Handling Time Series Data\n",
    "#### 7.1.1 Converting to DateTime"
   ]
  },
  {
   "cell_type": "code",
   "execution_count": 41,
   "metadata": {},
   "outputs": [],
   "source": [
    "# Generating date-related data\n",
    "date_range = pd.date_range(start='2022-01-01', periods=5, freq='D')\n",
    "date_df = pd.DataFrame({'Date': date_range, 'Value': [10, 15, 20, 25, 30]})\n"
   ]
  },
  {
   "cell_type": "markdown",
   "metadata": {},
   "source": [
    "\n",
    "\n",
    "7.1.2 Resampling Time Series Data\n"
   ]
  },
  {
   "cell_type": "code",
   "execution_count": 42,
   "metadata": {},
   "outputs": [],
   "source": [
    "# Converting a column to DateTime format\n",
    "date_df['Date'] = pd.to_datetime(date_df['Date'])\n"
   ]
  },
  {
   "cell_type": "markdown",
   "metadata": {},
   "source": [
    "#### 7.1.2 Converting to DateTime\n"
   ]
  },
  {
   "cell_type": "code",
   "execution_count": 43,
   "metadata": {},
   "outputs": [],
   "source": [
    "# Converting a column to DateTime format\n",
    "date_df['Date'] = pd.to_datetime(date_df['Date'])\n"
   ]
  },
  {
   "cell_type": "markdown",
   "metadata": {},
   "source": [
    "#### 7.1.3 Resampling Time Series Data\n"
   ]
  },
  {
   "cell_type": "code",
   "execution_count": 44,
   "metadata": {},
   "outputs": [
    {
     "name": "stderr",
     "output_type": "stream",
     "text": [
      "C:\\Users\\Yasse\\AppData\\Local\\Temp\\ipykernel_16332\\1110308217.py:2: FutureWarning: 'M' is deprecated and will be removed in a future version, please use 'ME' instead.\n",
      "  monthly_data = date_df.resample('M', on='Date').sum()\n"
     ]
    }
   ],
   "source": [
    "# Resampling daily data to monthly data\n",
    "monthly_data = date_df.resample('M', on='Date').sum()\n"
   ]
  },
  {
   "cell_type": "markdown",
   "metadata": {},
   "source": [
    "## 8. Advanced Data Cleaning\n",
    "### 8.1 Handling Outliers"
   ]
  },
  {
   "cell_type": "code",
   "execution_count": 54,
   "metadata": {},
   "outputs": [],
   "source": [
    "# Generating date-related data\n",
    "date_range = pd.date_range(start='2022-01-01', periods=5, freq='D')\n",
    "date_df = pd.DataFrame({'Date': date_range, 'Value': [10, 15, 20, 25, 30]})\n",
    "\n",
    "# Detecting and handling outliers using Z-score\n",
    "from scipy.stats import zscore\n",
    "outliers = date_df[(np.abs(zscore(date_df['Value'])) > 3)]\n",
    "cleaned_df = date_df[(np.abs(zscore(date_df['Value'])) <= 3)]\n"
   ]
  },
  {
   "cell_type": "markdown",
   "metadata": {},
   "source": [
    "### 8.2 Advanced Techniques for Handling Missing Data\n"
   ]
  },
  {
   "cell_type": "code",
   "execution_count": 55,
   "metadata": {},
   "outputs": [
    {
     "name": "stderr",
     "output_type": "stream",
     "text": [
      "C:\\Users\\Yasse\\AppData\\Local\\Temp\\ipykernel_16332\\861253447.py:2: FutureWarning: DataFrame.interpolate with object dtype is deprecated and will raise in a future version. Call obj.infer_objects(copy=False) before interpolating instead.\n",
      "  interpolated_df = df.interpolate()\n"
     ]
    }
   ],
   "source": [
    "# Interpolating missing values in a DataFrame\n",
    "interpolated_df = df.interpolate()\n"
   ]
  },
  {
   "cell_type": "markdown",
   "metadata": {},
   "source": [
    "## 8.3 Practice Exercises\n",
    "### 8.3.1 Exercise 5: MultiIndex Selection"
   ]
  },
  {
   "cell_type": "code",
   "execution_count": null,
   "metadata": {},
   "outputs": [],
   "source": [
    "# Your task: Select data for individuals named 'Alice' from 'New York'.\n"
   ]
  },
  {
   "cell_type": "code",
   "execution_count": 57,
   "metadata": {},
   "outputs": [],
   "source": [
    "selected_data_alice = multi_index_df.loc[('New York', 'Alice')]\n"
   ]
  }
 ],
 "metadata": {
  "kernelspec": {
   "display_name": "Python 3",
   "language": "python",
   "name": "python3"
  },
  "language_info": {
   "codemirror_mode": {
    "name": "ipython",
    "version": 3
   },
   "file_extension": ".py",
   "mimetype": "text/x-python",
   "name": "python",
   "nbconvert_exporter": "python",
   "pygments_lexer": "ipython3",
   "version": "3.10.11"
  }
 },
 "nbformat": 4,
 "nbformat_minor": 2
}
